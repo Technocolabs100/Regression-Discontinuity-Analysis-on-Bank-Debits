{
 "cells": [
  {
   "cell_type": "markdown",
   "id": "aa9b64e2-f68d-4933-b183-9a4e20b14144",
   "metadata": {},
   "source": [
    "# Bank Recovery Amount Prediction"
   ]
  },
  {
   "cell_type": "markdown",
   "id": "e04ed4a2-b63e-4474-9e3d-a6875e56d90c",
   "metadata": {},
   "source": [
    "### Data cleaning"
   ]
  },
  {
   "cell_type": "code",
   "execution_count": null,
   "id": "0d81ca2f-c943-42dc-8b5c-684af2c204d8",
   "metadata": {},
   "outputs": [],
   "source": [
    "# importing necessary libraries\n",
    "\n",
    "import pandas as pd\n",
    "import numpy as np\n",
    "import matplotlib.pyplot as plt\n",
    "import seaborn as sns"
   ]
  },
  {
   "cell_type": "code",
   "execution_count": null,
   "id": "4a3b8954-e6b7-420e-8b6f-fb9b08ee01db",
   "metadata": {},
   "outputs": [],
   "source": [
    "#import dataset\n",
    "df=pd.read_csv(\"bank_data.csv\")\n",
    "df"
   ]
  },
  {
   "cell_type": "code",
   "execution_count": null,
   "id": "279a8869-2151-449c-96aa-ad0737a6c91b",
   "metadata": {},
   "outputs": [],
   "source": [
    "df.shape"
   ]
  },
  {
   "cell_type": "code",
   "execution_count": null,
   "id": "e127cb16-eb6b-49dc-9c62-0896a40671e4",
   "metadata": {},
   "outputs": [],
   "source": [
    "df.head()"
   ]
  },
  {
   "cell_type": "code",
   "execution_count": null,
   "id": "bd8ba024-724c-4dfa-af30-bb510e10a319",
   "metadata": {},
   "outputs": [],
   "source": [
    "df.tail()"
   ]
  },
  {
   "cell_type": "code",
   "execution_count": null,
   "id": "d1902659-d875-49b9-ba2e-b2d870f6a728",
   "metadata": {},
   "outputs": [],
   "source": [
    "df.info()"
   ]
  },
  {
   "cell_type": "code",
   "execution_count": null,
   "id": "00fcbb9a-8682-443e-ba1a-beaaae889256",
   "metadata": {},
   "outputs": [],
   "source": [
    "df.isnull().sum()"
   ]
  },
  {
   "cell_type": "code",
   "execution_count": null,
   "id": "08e2841b-0149-49dd-a855-38f8534c68d0",
   "metadata": {},
   "outputs": [],
   "source": [
    "df.duplicated().sum()"
   ]
  },
  {
   "cell_type": "code",
   "execution_count": null,
   "id": "82476fac-ec5b-4767-90fc-b2570784f572",
   "metadata": {},
   "outputs": [],
   "source": [
    "df.describe()"
   ]
  },
  {
   "cell_type": "code",
   "execution_count": null,
   "id": "b914b042-1b77-42b2-8dbb-22abacab4c58",
   "metadata": {},
   "outputs": [],
   "source": [
    "df.dtypes"
   ]
  },
  {
   "cell_type": "code",
   "execution_count": null,
   "id": "161a9ba6-76fd-4aeb-ad76-cfc083f6291d",
   "metadata": {},
   "outputs": [],
   "source": [
    "df[\"recovery_strategy\"].value_counts()"
   ]
  },
  {
   "cell_type": "code",
   "execution_count": null,
   "id": "9002ea81-571b-4575-a167-4034a4202540",
   "metadata": {},
   "outputs": [],
   "source": [
    "df[\"age\"].nunique()"
   ]
  },
  {
   "cell_type": "code",
   "execution_count": null,
   "id": "c14d030c-3022-4b17-b4d3-25e19e3ba096",
   "metadata": {},
   "outputs": [],
   "source": [
    "df[\"sex\"].value_counts()"
   ]
  },
  {
   "cell_type": "markdown",
   "id": "ddd47045-fc1f-4998-90ec-33dfa9d4d6f6",
   "metadata": {},
   "source": [
    "## Graphical exploratory data analysis"
   ]
  },
  {
   "cell_type": "code",
   "execution_count": null,
   "id": "db88cd84-500a-4d6e-9c92-722a04a8f729",
   "metadata": {},
   "outputs": [],
   "source": [
    "sns.kdeplot(df[\"expected_recovery_amount\"],color=\"teal\")\n",
    "plt.show()"
   ]
  },
  {
   "cell_type": "code",
   "execution_count": null,
   "id": "d75c6a13-467d-4a3c-b735-1c41fae4d14a",
   "metadata": {},
   "outputs": [],
   "source": [
    "sns.kdeplot(df[\"actual_recovery_amount\"],color=\"teal\")\n",
    "plt.show()"
   ]
  },
  {
   "cell_type": "markdown",
   "id": "4b316fe9-7e09-424e-afda-d05952419c5f",
   "metadata": {},
   "source": [
    "## Statistical test: age vs. expected recovery amount"
   ]
  },
  {
   "cell_type": "code",
   "execution_count": null,
   "id": "a9093000-e114-4e65-a38a-58cb8f277fbb",
   "metadata": {},
   "outputs": [],
   "source": [
    "# range between $900 and $1100\n",
    "\n",
    "df_range1=df[(df[\"expected_recovery_amount\"]>=900) & (df[\"expected_recovery_amount\"]<=1100)]\n",
    "df_below1=df_range1[df_range1[\"expected_recovery_amount\"]<=1000]\n",
    "df_above1=df_range1[df_range1[\"expected_recovery_amount\"]>1000]"
   ]
  },
  {
   "cell_type": "code",
   "execution_count": null,
   "id": "85442edd-1629-4597-b018-b3e951933fa3",
   "metadata": {},
   "outputs": [],
   "source": [
    "print(\"Average age above $1000 expected recovery\",df_above1[\"age\"].mean())\n",
    "print(\"Average age below $1000 expected recovery\",df_below1[\"age\"].mean())"
   ]
  },
  {
   "cell_type": "code",
   "execution_count": null,
   "id": "3dcc45d8-209a-460a-b428-d9d3fcc2ffad",
   "metadata": {},
   "outputs": [],
   "source": [
    "sns.scatterplot(x=\"age\",y=\"expected_recovery_amount\",data=df_range1,color=\"teal\")\n",
    "plt.show()"
   ]
  },
  {
   "cell_type": "markdown",
   "id": "84ed3b95-b685-4197-8f50-3a36409bf349",
   "metadata": {},
   "source": [
    "* The average age above and below \\\\$1000 expected recovery amount in a range between \\\\$900 and \\\\$1100 is similar\n",
    "* in the scatterplot ,it is visible there is no jump in \\$1000\n",
    "* It means,differences in the actual recovery amount are due to the higher Recovery Strategy and not due to difference in age "
   ]
  },
  {
   "cell_type": "markdown",
   "id": "0c45a38e-7c77-4559-b6e3-622e0bbcee74",
   "metadata": {},
   "source": [
    "## Statistical test: sex vs. expected recovery amount"
   ]
  },
  {
   "cell_type": "code",
   "execution_count": null,
   "id": "9ffa7375-88a4-49fb-abdd-83cd07ce6860",
   "metadata": {},
   "outputs": [],
   "source": [
    "df_above1[\"sex\"].value_counts()"
   ]
  },
  {
   "cell_type": "code",
   "execution_count": null,
   "id": "8c7199a1-689b-4286-8c4c-6423450e77c3",
   "metadata": {},
   "outputs": [],
   "source": [
    "df_below1[\"sex\"].value_counts()"
   ]
  },
  {
   "cell_type": "code",
   "execution_count": null,
   "id": "e244aee3-4d56-4788-ad56-0431a68d32cc",
   "metadata": {},
   "outputs": [],
   "source": [
    "print(\"percentage of male above $1000 is \",\"{:.2f}\".format((55/112)*100),\"%\")\n",
    "print(\"percentage of male below $1000 is \",\"{:.2f}\".format((57/112)*100),\"%\")\n",
    "print()\n",
    "print(\"percentage of female above $1000 is \",\"{:.2f}\".format((40/72)*100),\"%\")\n",
    "print(\"percentage of female below $1000 is \",\"{:.2f}\".format((32/72)*100),\"%\")"
   ]
  },
  {
   "cell_type": "code",
   "execution_count": null,
   "id": "3a9c0e57-2858-4da7-94ea-fc8ced4a4a5d",
   "metadata": {},
   "outputs": [],
   "source": [
    "fig, axes = plt.subplots(1, 2,figsize=(10,5))\n",
    "df_above1[\"sex\"].value_counts().plot(kind=\"bar\",ax=axes[0],color=\"teal\").set(title=\"sex ratio in df_above\")\n",
    "df_below1[\"sex\"].value_counts().plot(kind=\"bar\",ax=axes[1],color=\"teal\").set(title=\"sex ratio in df_below\")\n",
    "plt.show()"
   ]
  },
  {
   "cell_type": "code",
   "execution_count": null,
   "id": "c45172e3-04af-48a0-9818-ce44927f160c",
   "metadata": {},
   "outputs": [],
   "source": [
    "sns.scatterplot(x=\"age\",y=\"expected_recovery_amount\",hue=\"sex\",data=df_range1,palette=(\"teal\",\"coral\"))\n",
    "plt.show()"
   ]
  },
  {
   "cell_type": "markdown",
   "id": "7593cf0d-0590-42be-809a-2625e900089d",
   "metadata": {},
   "source": [
    "* The percentage of customers that are male does not jump across the $1000 threshold\n",
    "* It means,differences in the actual recovery amount are due to the higher Recovery Strategy and not due to gender "
   ]
  },
  {
   "cell_type": "markdown",
   "id": "5735d070-d243-44b3-a569-d9367c53243c",
   "metadata": {},
   "source": [
    "## Exploratory graphical analysis: recovery amount"
   ]
  },
  {
   "cell_type": "code",
   "execution_count": null,
   "id": "1475643f-6d5e-43e2-b23b-e5bec3f42827",
   "metadata": {},
   "outputs": [],
   "source": [
    "sns.scatterplot(y=\"expected_recovery_amount\",x=\"actual_recovery_amount\",data=df_range1,color=\"teal\")\n",
    "plt.ylim(900,1100)\n",
    "plt.xlim(250,)\n",
    "plt.rc('grid', linestyle=\":\", color='gray')\n",
    "plt.grid(True)\n",
    "plt.show()"
   ]
  },
  {
   "cell_type": "markdown",
   "id": "e33e5f82-8c55-4253-a9b6-5959ad374138",
   "metadata": {},
   "source": [
    "## Statistical analysis: recovery amount"
   ]
  },
  {
   "cell_type": "code",
   "execution_count": null,
   "id": "8501f003-d262-47b1-829d-e20c86cf224e",
   "metadata": {},
   "outputs": [],
   "source": [
    "from scipy import stats "
   ]
  },
  {
   "cell_type": "markdown",
   "id": "a9b469a5-4831-43b4-8b28-a1568c41f255",
   "metadata": {},
   "source": [
    "* Null hypothesis: Below and above \\$1000 threshold, the actual recovery amount behaves the same\n",
    "* Alternate hypothesis:The actual recovery amount has a discontinuity above the \\$1000 threshold"
   ]
  },
  {
   "cell_type": "code",
   "execution_count": null,
   "id": "0bf0887e-b47f-4b43-928c-80370dffd065",
   "metadata": {},
   "outputs": [],
   "source": [
    "def value(pvalue):\n",
    "    if pvalue<0.05:\n",
    "        print(\"Since P Value is less than 0.05,we reject the null hypothesis. That means The actual recovery amount has a discontinuity above the $1000 threshold\")\n",
    "    else:\n",
    "        print(\"Since P Value is greater than 0.05,we reject the Alternate hhypothesis.That means below and above $1000 threshold, the actual recovery amount behaves the same\")"
   ]
  },
  {
   "cell_type": "code",
   "execution_count": null,
   "id": "2afd0b54-ed09-4847-8758-757da2c00654",
   "metadata": {},
   "outputs": [],
   "source": [
    "# window 1\n",
    "# between $900 to $1000 ie df_range1\n",
    "\n",
    "df1_window1 = df_above1[\"actual_recovery_amount\"]\n",
    "df2_window1 = df_below1[\"actual_recovery_amount\"]\n",
    "\n",
    "# the Kruskal-Wallis Test \n",
    "statistics,pvalue= stats.kruskal(df1_window1,df2_window1)\n",
    " \n",
    "print(\"Statistics: \",statistics)\n",
    "print(\"P Value: \",pvalue)\n",
    "value(pvalue)"
   ]
  },
  {
   "cell_type": "code",
   "execution_count": null,
   "id": "f2f338b2-bda8-45af-8ace-16230d066b9e",
   "metadata": {},
   "outputs": [],
   "source": [
    "# window 2\n",
    "# between $950 to $1050 ie df_range2\n",
    "\n",
    "df_range2=df[(df[\"expected_recovery_amount\"]>=950) & (df[\"expected_recovery_amount\"]<=1050)]\n",
    "df_below2=df_range2[df_range2[\"expected_recovery_amount\"]<=1000]\n",
    "df_above2=df_range2[df_range2[\"expected_recovery_amount\"]>1000]\n",
    "\n",
    "\n",
    "df1_window2 = df_above2[\"actual_recovery_amount\"]\n",
    "df2_window2 = df_below2[\"actual_recovery_amount\"]\n",
    "\n",
    "# the Kruskal-Wallis Test \n",
    "statistics,pvalue= stats.kruskal(df1_window2,df2_window2)\n",
    " \n",
    "print(\"Statistics: \",statistics)\n",
    "print(\"P Value: \",pvalue)\n",
    "value(pvalue)"
   ]
  },
  {
   "cell_type": "markdown",
   "id": "5895539f-ca5b-4090-8fd7-75e150f6877f",
   "metadata": {},
   "source": [
    "* In both ranges(windows) the p value is less than 0.05\n",
    "* This means the actual recovery amount has a discontinuity above the $1000 threshold."
   ]
  },
  {
   "cell_type": "markdown",
   "id": "41ea1d8c-89d6-42f3-97da-ac61267d2a33",
   "metadata": {},
   "source": [
    "## Regression modeling: no threshold"
   ]
  },
  {
   "cell_type": "code",
   "execution_count": null,
   "id": "73289ce4-e720-4032-a9be-720247ce8074",
   "metadata": {},
   "outputs": [],
   "source": [
    "# pip install statsmodels"
   ]
  },
  {
   "cell_type": "code",
   "execution_count": null,
   "id": "4a8f9120-aad5-4c58-9d5d-777b2eacd4f6",
   "metadata": {},
   "outputs": [],
   "source": [
    "import statsmodels.api as sm"
   ]
  },
  {
   "cell_type": "code",
   "execution_count": null,
   "id": "6c08f69c-bfed-4aff-b655-70cba65148eb",
   "metadata": {},
   "outputs": [],
   "source": [
    "x=df_range1[\"expected_recovery_amount\"]\n",
    "y=df_range1[\"actual_recovery_amount\"]\n",
    "x = sm.add_constant(x)"
   ]
  },
  {
   "cell_type": "code",
   "execution_count": null,
   "id": "defd6dba-5268-4faf-a086-1c51dd3a0b7b",
   "metadata": {},
   "outputs": [],
   "source": [
    "model = sm.OLS(y, x)\n",
    "results =model.fit()\n",
    "print(results.summary())"
   ]
  },
  {
   "cell_type": "markdown",
   "id": "9ad0870c-9a09-4b8c-977b-40ef5793606f",
   "metadata": {},
   "source": [
    "## Regression modeling: adding true threshold"
   ]
  },
  {
   "cell_type": "code",
   "execution_count": null,
   "id": "23238820-52fd-4dd3-8734-d03a074c9748",
   "metadata": {},
   "outputs": [],
   "source": [
    "df[\"threshold\"]=np.where(df['expected_recovery_amount']<1000, 0, 1)"
   ]
  },
  {
   "cell_type": "code",
   "execution_count": null,
   "id": "cd55daaa-250b-4579-85c7-4a1a69758f2d",
   "metadata": {},
   "outputs": [],
   "source": [
    "df"
   ]
  },
  {
   "cell_type": "code",
   "execution_count": null,
   "id": "f9235b15-1dc4-4ab7-8a58-97db9b2e4f26",
   "metadata": {},
   "outputs": [],
   "source": [
    "new_df_range1=df[(df[\"expected_recovery_amount\"]>=900) & (df[\"expected_recovery_amount\"]<1100)]"
   ]
  },
  {
   "cell_type": "code",
   "execution_count": null,
   "id": "c8986de1-29b2-4569-a637-84e01a4e61e9",
   "metadata": {},
   "outputs": [],
   "source": [
    "x=new_df_range1[[\"expected_recovery_amount\",\"threshold\"]]\n",
    "y=new_df_range1[\"actual_recovery_amount\"]\n",
    "x = sm.add_constant(x)"
   ]
  },
  {
   "cell_type": "code",
   "execution_count": null,
   "id": "4847c005-0b55-489d-a105-4b4b0c68ec4a",
   "metadata": {},
   "outputs": [],
   "source": [
    "new_model1 = sm.OLS(y, x)\n",
    "new_results1 =new_model1.fit()\n",
    "print(new_results1.summary())"
   ]
  },
  {
   "cell_type": "markdown",
   "id": "e42791a4-3aa8-4e22-aeb7-71e00ed87a0d",
   "metadata": {},
   "source": [
    "* The regression coefficient for the true threshold was statistically significant with an estimated impact of around \\\\$277 and a 95 percent confidence interval of \\\\$131 to \\\\$423.This is much larger than the incremental cost of running the higher recovery strategy which was \\\\$50 per customer.\n",
    "*  At this point, we are feeling reasonably confident that the higher recovery strategy is worth the additional costs of the program for customers just above and just below the threshold"
   ]
  },
  {
   "cell_type": "markdown",
   "id": "7045dff0-d0e8-414c-841e-be9e21058ffa",
   "metadata": {},
   "source": [
    "## Regression modeling: adjusting the window"
   ]
  },
  {
   "cell_type": "code",
   "execution_count": null,
   "id": "1b4a0674-0413-4c25-be5f-672d504e4964",
   "metadata": {},
   "outputs": [],
   "source": [
    "new_df_range2=df[(df[\"expected_recovery_amount\"]>=950) & (df[\"expected_recovery_amount\"]<1050)]"
   ]
  },
  {
   "cell_type": "code",
   "execution_count": null,
   "id": "82927e44-9b14-4a7a-8dc9-00847278b386",
   "metadata": {},
   "outputs": [],
   "source": [
    "x=new_df_range2[[\"expected_recovery_amount\",\"threshold\"]]\n",
    "y=new_df_range2[\"actual_recovery_amount\"]\n",
    "x = sm.add_constant(x)"
   ]
  },
  {
   "cell_type": "code",
   "execution_count": null,
   "id": "b6024315-a45d-4a18-9bbe-60a0596ff4cd",
   "metadata": {},
   "outputs": [],
   "source": [
    "new_model2 = sm.OLS(y, x)\n",
    "new_results2 =new_model2.fit()\n",
    "print(new_results2.summary())"
   ]
  }
 ],
 "metadata": {
  "kernelspec": {
   "display_name": "Python 3 (ipykernel)",
   "language": "python",
   "name": "python3"
  },
  "language_info": {
   "codemirror_mode": {
    "name": "ipython",
    "version": 3
   },
   "file_extension": ".py",
   "mimetype": "text/x-python",
   "name": "python",
   "nbconvert_exporter": "python",
   "pygments_lexer": "ipython3",
   "version": "3.11.7"
  }
 },
 "nbformat": 4,
 "nbformat_minor": 5
}
