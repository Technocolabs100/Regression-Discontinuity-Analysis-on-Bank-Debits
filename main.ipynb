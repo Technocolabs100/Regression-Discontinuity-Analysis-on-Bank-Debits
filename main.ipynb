{
 "cells": [
  {
   "cell_type": "code",
   "execution_count": 1,
   "id": "002d3f46",
   "metadata": {},
   "outputs": [],
   "source": [
    "# llibraries:\n",
    "import pandas as pd\n",
    "import matplotlib.pyplot as plt\n",
    "import seaborn as sns\n",
    "from scipy import stats\n",
    "from sklearn.linear_model import LinearRegression\n",
    "import numpy as np\n",
    "import statsmodels.api as sm\n",
    "from statsmodels.stats.outliers_influence import variance_inflation_factor"
   ]
  },
  {
   "cell_type": "code",
   "execution_count": 2,
   "id": "d9087cca",
   "metadata": {},
   "outputs": [
    {
     "data": {
      "text/html": [
       "<div>\n",
       "<style scoped>\n",
       "    .dataframe tbody tr th:only-of-type {\n",
       "        vertical-align: middle;\n",
       "    }\n",
       "\n",
       "    .dataframe tbody tr th {\n",
       "        vertical-align: top;\n",
       "    }\n",
       "\n",
       "    .dataframe thead th {\n",
       "        text-align: right;\n",
       "    }\n",
       "</style>\n",
       "<table border=\"1\" class=\"dataframe\">\n",
       "  <thead>\n",
       "    <tr style=\"text-align: right;\">\n",
       "      <th></th>\n",
       "      <th>id</th>\n",
       "      <th>expected_recovery_amount</th>\n",
       "      <th>actual_recovery_amount</th>\n",
       "      <th>recovery_strategy</th>\n",
       "      <th>age</th>\n",
       "      <th>sex</th>\n",
       "    </tr>\n",
       "  </thead>\n",
       "  <tbody>\n",
       "    <tr>\n",
       "      <th>0</th>\n",
       "      <td>2030</td>\n",
       "      <td>194</td>\n",
       "      <td>263.540</td>\n",
       "      <td>Level 0 Recovery</td>\n",
       "      <td>19</td>\n",
       "      <td>Male</td>\n",
       "    </tr>\n",
       "    <tr>\n",
       "      <th>1</th>\n",
       "      <td>1150</td>\n",
       "      <td>486</td>\n",
       "      <td>416.090</td>\n",
       "      <td>Level 0 Recovery</td>\n",
       "      <td>25</td>\n",
       "      <td>Female</td>\n",
       "    </tr>\n",
       "    <tr>\n",
       "      <th>2</th>\n",
       "      <td>380</td>\n",
       "      <td>527</td>\n",
       "      <td>429.350</td>\n",
       "      <td>Level 0 Recovery</td>\n",
       "      <td>27</td>\n",
       "      <td>Male</td>\n",
       "    </tr>\n",
       "    <tr>\n",
       "      <th>3</th>\n",
       "      <td>1838</td>\n",
       "      <td>536</td>\n",
       "      <td>296.990</td>\n",
       "      <td>Level 0 Recovery</td>\n",
       "      <td>25</td>\n",
       "      <td>Male</td>\n",
       "    </tr>\n",
       "    <tr>\n",
       "      <th>4</th>\n",
       "      <td>1995</td>\n",
       "      <td>541</td>\n",
       "      <td>346.385</td>\n",
       "      <td>Level 0 Recovery</td>\n",
       "      <td>34</td>\n",
       "      <td>Male</td>\n",
       "    </tr>\n",
       "  </tbody>\n",
       "</table>\n",
       "</div>"
      ],
      "text/plain": [
       "     id  expected_recovery_amount  actual_recovery_amount recovery_strategy  \\\n",
       "0  2030                       194                 263.540  Level 0 Recovery   \n",
       "1  1150                       486                 416.090  Level 0 Recovery   \n",
       "2   380                       527                 429.350  Level 0 Recovery   \n",
       "3  1838                       536                 296.990  Level 0 Recovery   \n",
       "4  1995                       541                 346.385  Level 0 Recovery   \n",
       "\n",
       "   age     sex  \n",
       "0   19    Male  \n",
       "1   25  Female  \n",
       "2   27    Male  \n",
       "3   25    Male  \n",
       "4   34    Male  "
      ]
     },
     "execution_count": 2,
     "metadata": {},
     "output_type": "execute_result"
    }
   ],
   "source": [
    "df = pd.read_csv('bank_data.csv')\n",
    "df.head()"
   ]
  },
  {
   "cell_type": "code",
   "execution_count": 3,
   "id": "1264662c",
   "metadata": {},
   "outputs": [
    {
     "data": {
      "text/plain": [
       "array(['Level 0 Recovery', 'Level 1 Recovery', 'Level 2 Recovery',\n",
       "       'Level 3 Recovery', 'Level 4 Recovery'], dtype=object)"
      ]
     },
     "execution_count": 3,
     "metadata": {},
     "output_type": "execute_result"
    }
   ],
   "source": [
    "# Checking the unique values in the 'recovery_strategy' column\n",
    "unique_strategies = df['recovery_strategy'].unique()\n",
    "unique_strategies.sort()\n",
    "unique_strategies"
   ]
  },
  {
   "cell_type": "code",
   "execution_count": 4,
   "id": "642e18d2",
   "metadata": {},
   "outputs": [
    {
     "data": {
      "text/plain": [
       "recovery_strategy\n",
       "Level 0 Recovery      521.027126\n",
       "Level 1 Recovery     1301.689329\n",
       "Level 2 Recovery     2916.915341\n",
       "Level 3 Recovery     6186.464786\n",
       "Level 4 Recovery    12428.197233\n",
       "Name: actual_recovery_amount, dtype: float64"
      ]
     },
     "execution_count": 4,
     "metadata": {},
     "output_type": "execute_result"
    }
   ],
   "source": [
    "# Calculating the average actual recovery amount for each recovery strategy level\n",
    "average_recovery_by_strategy = df.groupby('recovery_strategy')['actual_recovery_amount'].mean()\n",
    "average_recovery_by_strategy"
   ]
  },
  {
   "cell_type": "code",
   "execution_count": 5,
   "id": "3c53728c",
   "metadata": {},
   "outputs": [
    {
     "data": {
      "text/plain": [
       "recovery_strategy\n",
       "Level 1 Recovery     730.662203\n",
       "Level 2 Recovery    1565.226012\n",
       "Level 3 Recovery    3219.549445\n",
       "Level 4 Recovery    6191.732446\n",
       "Name: actual_recovery_amount, dtype: float64"
      ]
     },
     "execution_count": 5,
     "metadata": {},
     "output_type": "execute_result"
    }
   ],
   "source": [
    "# Calculating the difference in average recovery amounts between each adjacent level\n",
    "difference_in_recovery = average_recovery_by_strategy.diff().dropna()\n",
    "difference_in_recovery_comparison = difference_in_recovery - 50\n",
    "difference_in_recovery_comparison\n"
   ]
  },
  {
   "cell_type": "markdown",
   "id": "2de98065",
   "metadata": {},
   "source": [
    "As the bank ascended through the tiers of its recovery strategy, each figure indicates the net growth in average recovery amounts at a more advanced level, after accounting for the extra $50 costs incurred at that stage.\n",
    "\n",
    "This suggests that the bank's approach of intensifying efforts and bearing additional expenses at elevated recovery levels is fruitful, as the rise in recovery sums at each stage substantially surpasses the extra $50 investment."
   ]
  },
  {
   "cell_type": "markdown",
   "id": "0d461789",
   "metadata": {},
   "source": [
    "###### Age vs Expected Recovery Amount"
   ]
  },
  {
   "cell_type": "code",
   "execution_count": 6,
   "id": "6423ff74",
   "metadata": {},
   "outputs": [
    {
     "data": {
      "image/png": "[encoded data removed]",
      "text/plain": [
       "<Figure size 1200x600 with 1 Axes>"
      ]
     },
     "metadata": {},
     "output_type": "display_data"
    }
   ],
   "source": [
    "# Filtering the data for Expected Recovery Amounts between $0 and $2000\n",
    "window_data = df[(df['expected_recovery_amount'] > 0) & (df['expected_recovery_amount'] <= 2000)]\n",
    "\n",
    "# Creating a scatter plot of age vs. Expected Recovery Amount\n",
    "plt.figure(figsize=(12, 6))\n",
    "sns.scatterplot(x='expected_recovery_amount', y='age', data=window_data, alpha=0.6)\n",
    "\n",
    "# Adding a vertical line at the $1000 threshold\n",
    "plt.axvline(x=1000, color='red', linestyle='--', label='Level 0/1 Threshold ($1000)')\n",
    "\n",
    "plt.title('Scatter Plot of Age vs. Expected Recovery Amount ($0 - $2000)')\n",
    "plt.xlabel('Expected Recovery Amount')\n",
    "plt.ylabel('Age')\n",
    "plt.legend()\n",
    "plt.grid(True)\n",
    "plt.show()\n"
   ]
  },
  {
   "cell_type": "markdown",
   "id": "aab8f9b0",
   "metadata": {},
   "source": [
    "The scatter plot displayed shows the correlation between age and projected recovery amounts, ranging from 0 to 2000 USD. A red dashed line marks the $1000 point, distinguishing between Level 0 and Level 1 recovery strategies.\n",
    "\n",
    "The plot reveals:\n",
    "\n",
    "- At the $1000 threshold, there is no evident abrupt change or discontinuity in age. Age distribution appears to be uniformly spread across this dividing line.\n",
    "\n",
    "- The range of ages is evenly distributed throughout the various projected recovery amounts, not showing any distinct pattern that signifies a significant shift at the $1000 level.\n",
    "\n",
    "These observations indicate that age does not exhibit a notable shift or interruption at the boundary separating the two levels of recovery strategies. Hence, it is improbable that age plays a critical role in determining the shift from Level 0 to Level 1 recovery strategies with respect to projected recovery amounts."
   ]
  },
  {
   "cell_type": "markdown",
   "id": "33be0df1",
   "metadata": {},
   "source": [
    "###### t-test to test the effect of age on expected recovery amount"
   ]
  },
  {
   "cell_type": "markdown",
   "id": "749bd24a",
   "metadata": {},
   "source": [
    "To conduct a statistical analysis on whether a significant variation exists in the average age of customers slightly above and slightly below the $1000 mark in Expected Recovery Amount, we will utilize a hypothesis testing approach. This method will involve comparing the mean ages of two distinct groups:\n",
    "\n",
    "1.Customers with Expected Recovery Amounts ranging from \\$900 to \\$1000 (marginally below the threshold).\n",
    "2.Customers with Expected Recovery Amounts ranging from \\$1001 to \\$1100 (marginally above the threshold).\n",
    "\n",
    "The hypothesis for this analysis is structured as follows:\n",
    "\n",
    "Null Hypothesis (H0): There is no notable difference in the average age of customers immediately below and immediately above the $1000 Expected Recovery Amount threshold.\n",
    "\n",
    "Alternative Hypothesis (H1): There is a notable difference in the average age of customers immediately below and immediately above the $1000 Expected Recovery Amount threshold."
   ]
  },
  {
   "cell_type": "code",
   "execution_count": 7,
   "id": "17089115",
   "metadata": {},
   "outputs": [
    {
     "name": "stdout",
     "output_type": "stream",
     "text": [
      "T-statistic: -1.6090357512691353\n",
      "P-value: 0.10938147433215123\n"
     ]
    }
   ],
   "source": [
    "# Extracting subsets of data\n",
    "below_threshold = df[(df['expected_recovery_amount'] >= 900) & (df['expected_recovery_amount'] <= 1000)]\n",
    "above_threshold = df[(df['expected_recovery_amount'] > 1000) & (df['expected_recovery_amount'] <= 1100)]\n",
    "\n",
    "# Conducting a t-test\n",
    "t_stat, p_value = stats.ttest_ind(below_threshold['age'], above_threshold['age'], equal_var=False)\n",
    "\n",
    "print(f'T-statistic: {t_stat}')\n",
    "print(f'P-value: {p_value}')"
   ]
  },
  {
   "cell_type": "markdown",
   "id": "b1778dd4",
   "metadata": {},
   "source": [
    "- p-value>0.05. \n",
    "- Failed to reject null hypothesis. \n",
    "- no significant difference in the average age of customers just below and just above the 1000 USD threshold in expected recovery amounts."
   ]
  },
  {
   "cell_type": "markdown",
   "id": "7be0453f",
   "metadata": {},
   "source": [
    "Consequently, from this analysis, it seems that age does not show a consistent variation around the $1000 threshold. This suggests that the observed differences in recovery amounts are more likely attributed to the recovery strategy, rather than being influenced by age-related factors."
   ]
  },
  {
   "cell_type": "markdown",
   "id": "4f6811b6",
   "metadata": {},
   "source": [
    "###### Sex vs Expected Recovery Amount"
   ]
  },
  {
   "cell_type": "code",
   "execution_count": 8,
   "id": "516dd56a",
   "metadata": {},
   "outputs": [
    {
     "name": "stdout",
     "output_type": "stream",
     "text": [
      "Chi-squared statistic:  1.2872311408308033\n",
      "P-value: 0.25655884380945315\n"
     ]
    }
   ],
   "source": [
    "# Creating a contingency table for the chi-squared test\n",
    "\n",
    "contingency_table = pd.crosstab(\n",
    "    index=(df['expected_recovery_amount'] > 1000) & (df['expected_recovery_amount'] <= 1100),\n",
    "    columns=df['sex']\n",
    ")\n",
    "\n",
    "# Conducting the chi-squared test\n",
    "chi2_stat, p_val, dof, ex = stats.chi2_contingency(contingency_table)\n",
    "\n",
    "\n",
    "print(f'Chi-squared statistic:  {chi2_stat}')\n",
    "print(f'P-value: {p_val}')\n"
   ]
  },
  {
   "cell_type": "markdown",
   "id": "5a6bba32",
   "metadata": {},
   "source": [
    "- p-value > 0.05. \n",
    "- Failed to reject the null hypothesis of independence. I\n",
    "- no significant difference in the distribution of sexes just below and just above the $1000 threshold in expected recovery amounts.\n",
    "\n",
    "Hence, from this analysis, it seems that the gender of customers does not show a consistent variation at the $1000 mark. This reinforces the notion that the observed variations in recovery amounts are probably attributable to the recovery strategy used, rather than any gender-based distribution differences."
   ]
  },
  {
   "cell_type": "code",
   "execution_count": 32,
   "id": "6dc22956",
   "metadata": {},
   "outputs": [],
   "source": [
    "# Testing for several windows"
   ]
  },
  {
   "cell_type": "code",
   "execution_count": 9,
   "id": "3e042074",
   "metadata": {},
   "outputs": [
    {
     "data": {
      "text/plain": [
       "(0.49435761688866475, 0.48198988397369014)"
      ]
     },
     "execution_count": 9,
     "metadata": {},
     "output_type": "execute_result"
    }
   ],
   "source": [
    "# Filtering data for Expected Recovery Amounts between $900 and $1100\n",
    "data_900_1100 = df[(df['expected_recovery_amount'] >= 900) & (df['expected_recovery_amount'] <= 1100)]\n",
    "\n",
    "# Creating a contingency table for the chi-squared test\n",
    "contingency_table_900_1100 = pd.crosstab(\n",
    "    index=(data_900_1100['expected_recovery_amount'] > 1000),\n",
    "    columns=data_900_1100['sex']\n",
    ")\n",
    "\n",
    "# Conducting the chi-squared test\n",
    "chi2_stat_900_1100, p_val_900_1100, dof_900_1100, ex_900_1100 = stats.chi2_contingency(contingency_table_900_1100)\n",
    "\n",
    "chi2_stat_900_1100, p_val_900_1100\n"
   ]
  },
  {
   "cell_type": "markdown",
   "id": "20ffbc32",
   "metadata": {},
   "source": [
    "1. Group of customers with anticipated recovery sums ranging from $900 to $1000, slightly below the set threshold.\n",
    "2. Group of customers with anticipated recovery sums ranging from $1001 to $1100, marginally exceeding the set threshold.\n",
    "\n",
    "- Chi-squared statistic: 0.494\n",
    "- P-value: 0.482\n",
    "\n",
    "The chi-squared value of 0.494, in conjunction with a p-value of 0.482, suggests a lack of substantial disparity in the proportion of male customers immediately below and above the $1000 benchmark. The p-value, exceeding 0.05, implies insufficient grounds to discard the hypothesis that posits no variance in the proportion of male customers across this benchmark.\n",
    "\n",
    "These findings lead to the conclusion that there is no notable shift in the percentage of male customers at the $1000 demarcation in expected recovery amounts within the $900 to $1100 range. This reinforces the notion that any observed variations in actual recovery amounts are more likely attributed to the methods of recovery employed rather than shifts in the demographic profile of customers around this specific threshold."
   ]
  },
  {
   "cell_type": "code",
   "execution_count": 12,
   "id": "1720eb4f",
   "metadata": {},
   "outputs": [
    {
     "data": {
      "text/plain": [
       "{(950, 1050): (0.003709061236600946, 0.9514372067298551),\n",
       " (800, 1200): (0.15070170671133973, 0.6978656821999862),\n",
       " (850, 1150): (0.29069794610461575, 0.5897736168259035)}"
      ]
     },
     "execution_count": 12,
     "metadata": {},
     "output_type": "execute_result"
    }
   ],
   "source": [
    "# Defining different ranges around the $1000 threshold\n",
    "ranges = [(950, 1050), (800, 1200), (850, 1150)]\n",
    "\n",
    "# Results dictionary to store chi-squared statistics and p-values for each range\n",
    "range_results = {}\n",
    "\n",
    "# Performing chi-squared tests for each range\n",
    "for lower, upper in ranges:\n",
    "    # Filtering data for the specified range\n",
    "    data_range = df[(df['expected_recovery_amount'] >= lower) & (df['expected_recovery_amount'] <= upper)]\n",
    "\n",
    "    # Creating a contingency table for the chi-squared test\n",
    "    contingency_table_range = pd.crosstab(\n",
    "        index=(data_range['expected_recovery_amount'] > 1000),\n",
    "        columns=data_range['sex']\n",
    "    )\n",
    "\n",
    "    # Conducting the chi-squared test\n",
    "    chi2_stat_range, p_val_range, _, _ = stats.chi2_contingency(contingency_table_range)\n",
    "    range_results[(lower, upper)] = (chi2_stat_range, p_val_range)\n",
    "\n",
    "range_results\n"
   ]
  },
  {
   "cell_type": "markdown",
   "id": "8a7554b1",
   "metadata": {},
   "source": [
    "\n",
    "1. For the price range of $950 to $1050:\n",
    "   - The Chi-squared statistic is 0.004\n",
    "   - The P-value is 0.951\n",
    "\n",
    "2. In the range of $800 to $1200:\n",
    "   - The Chi-squared statistic is 0.151\n",
    "   - The P-value is 0.698\n",
    "\n",
    "3. Within the range of $850 to $1150:\n",
    "   - The Chi-squared statistic is 0.291\n",
    "   - The P-value is 0.590\n",
    "\n",
    "- All the p-values are greater than 0.05, indicating no substantial difference in the percentage of male customers across the $1000 mark for these specified ranges.\n",
    "\n",
    "The consistent outcomes from these analyses lead to the conclusion that there isn't a notable change in the proportion of male customers at the $1000 threshold, irrespective of the range selected around this point.\n",
    "\n",
    "These results further suggest that the observed differences in recovery amounts are more likely attributable to the recovery strategy employed, rather than any shift in the gender composition of customers near the threshold."
   ]
  },
  {
   "cell_type": "markdown",
   "id": "5deed904",
   "metadata": {},
   "source": [
    "##### Expected vs. Actual Recovery Amount"
   ]
  },
  {
   "cell_type": "code",
   "execution_count": 11,
   "id": "f792de39",
   "metadata": {},
   "outputs": [
    {
     "data": {
      "image/png": "[encoded data removed]",
      "text/plain": [
       "<Figure size 1200x600 with 1 Axes>"
      ]
     },
     "metadata": {},
     "output_type": "display_data"
    }
   ],
   "source": [
    "# Filtering the data for Expected Recovery Amounts between $900 and $1100\n",
    "data_900_1100_scatter = df[(df['expected_recovery_amount'] >= 900) & (df['expected_recovery_amount'] <= 1100)]\n",
    "\n",
    "# Creating a scatter plot of Actual Recovery Amount vs. Expected Recovery Amount\n",
    "plt.figure(figsize=(12, 6))\n",
    "sns.scatterplot(x='actual_recovery_amount', y='expected_recovery_amount', data=data_900_1100_scatter, alpha=0.6)\n",
    "\n",
    "# Adding a horizontal line at the $1000 threshold\n",
    "plt.axhline(y=1000, color='red', linestyle='--', label='Threshold ($1000)')\n",
    "\n",
    "plt.title('Scatter Plot of Expected vs. Actual Recovery Amount ($900 - $1100)')\n",
    "plt.xlabel('Actual Recovery Amount')\n",
    "plt.ylabel('Expected Recovery Amount')\n",
    "plt.legend()\n",
    "plt.grid(True)\n",
    "plt.show()\n"
   ]
  },
  {
   "cell_type": "markdown",
   "id": "5802e38b",
   "metadata": {},
   "source": [
    "The scatter plot presented illustrates the correlation between the actual and expected recovery amounts, where the actual recovery is plotted along the X-axis and the expected recovery along the Y-axis. This plot specifically focuses on expected recovery amounts ranging from $900 to $1100. A red dashed line is included to indicate the $1000 threshold, distinguishing between Level 0 and Level 1 recovery strategies.\n",
    "\n",
    "Observations from the plot include:\n",
    "\n",
    "- The actual recovery amounts both below and above the $1000 threshold show a diverse distribution without a clear or abrupt change at the threshold.\n",
    "\n",
    "- There's a noticeable variation in the actual recovery amounts for expected recoveries around the $1000 mark.\n",
    "\n",
    "It's important to recognize that while a scatter plot offers an initial visual representation, it may not always effectively disclose subtle inconsistencies or trends, particularly in instances of overlapping data points or when the data exhibits significant variance. In such cases, a detailed statistical analysis could be more effective in identifying any significant differences in actual recovery amounts near the threshold."
   ]
  },
  {
   "cell_type": "markdown",
   "id": "664c2e81",
   "metadata": {},
   "source": [
    "###### Kruskal-Wallis Test"
   ]
  },
  {
   "cell_type": "code",
   "execution_count": 36,
   "id": "eb54a4c2",
   "metadata": {},
   "outputs": [
    {
     "data": {
      "text/plain": [
       "(64.89840778685254,\n",
       " 7.886077128395961e-16,\n",
       " 30.9924872487249,\n",
       " 2.5902913533269003e-08)"
      ]
     },
     "execution_count": 36,
     "metadata": {},
     "output_type": "execute_result"
    }
   ],
   "source": [
    "# Filtering data for the two ranges\n",
    "data_900_1100_test = df[(df['expected_recovery_amount'] >= 900) & (df['expected_recovery_amount'] <= 1100)]\n",
    "data_950_1050_test = df[(df['expected_recovery_amount'] >= 950) & (df['expected_recovery_amount'] <= 1050)]\n",
    "\n",
    "# Performing Kruskal-Wallis test for the range $900 to $1100\n",
    "kw_stat_900_1100, kw_p_val_900_1100 = stats.kruskal(\n",
    "    data_900_1100_test[data_900_1100_test['expected_recovery_amount'] <= 1000]['actual_recovery_amount'],\n",
    "    data_900_1100_test[data_900_1100_test['expected_recovery_amount'] > 1000]['actual_recovery_amount']\n",
    ")\n",
    "\n",
    "# Performing Kruskal-Wallis test for the range $950 to $1050\n",
    "kw_stat_950_1050, kw_p_val_950_1050 = stats.kruskal(\n",
    "    data_950_1050_test[data_950_1050_test['expected_recovery_amount'] <= 1000]['actual_recovery_amount'],\n",
    "    data_950_1050_test[data_950_1050_test['expected_recovery_amount'] > 1000]['actual_recovery_amount']\n",
    ")\n",
    "\n",
    "kw_stat_900_1100, kw_p_val_900_1100, kw_stat_950_1050, kw_p_val_950_1050\n"
   ]
  },
  {
   "cell_type": "markdown",
   "id": "7aac4db5",
   "metadata": {},
   "source": [
    "For the range $900 to $1100:\n",
    "Kruskal-Wallis statistic: 64.90\n",
    "P-value: ~7.89e-16\n",
    "\n",
    "For the range $950 to $1050:\n",
    "Kruskal-Wallis statistic: 30.99\n",
    "P-value: ~2.59e-08\n",
    "\n",
    "In both cases, the p-values are significantly lower than the standard significance level of 0.05. This indicates that there is a statistically significant difference in the actual recovery amounts between customers just below and just above the $1000 threshold for both ranges.\n",
    "\n",
    "The consistency of results across both ranges suggests that there is indeed a discontinuity in the actual recovery amounts at the $1000 threshold. This finding aligns with the expectation that the change in recovery strategy at this threshold impacts the actual recovery amounts."
   ]
  },
  {
   "cell_type": "code",
   "execution_count": null,
   "id": "9bc8b172",
   "metadata": {},
   "outputs": [],
   "source": []
  },
  {
   "cell_type": "markdown",
   "id": "fbdbdab0",
   "metadata": {},
   "source": [
    "##### Regression"
   ]
  },
  {
   "cell_type": "code",
   "execution_count": null,
   "id": "e5cd8f7d",
   "metadata": {},
   "outputs": [],
   "source": []
  },
  {
   "cell_type": "code",
   "execution_count": 37,
   "id": "8d542032",
   "metadata": {},
   "outputs": [],
   "source": [
    "#-------------------------------NO THRESHOLD--------------------------------------"
   ]
  },
  {
   "cell_type": "code",
   "execution_count": 38,
   "id": "69de2447",
   "metadata": {},
   "outputs": [
    {
     "data": {
      "text/plain": [
       "(-1650.4994474543869, 2.047657120990666)"
      ]
     },
     "execution_count": 38,
     "metadata": {},
     "output_type": "execute_result"
    }
   ],
   "source": [
    "# Preparing the data for linear regression\n",
    "X = df['expected_recovery_amount'].values.reshape(-1, 1)  # Independent variable (reshape for sklearn)\n",
    "y = df['actual_recovery_amount']  # Dependent variable\n",
    "\n",
    "# Creating and fitting the linear regression model\n",
    "model_no_threshold = LinearRegression()\n",
    "model_no_threshold.fit(X, y)\n",
    "\n",
    "# Coefficients of the model\n",
    "intercept_no_threshold = model_no_threshold.intercept_\n",
    "slope_no_threshold = model_no_threshold.coef_[0]\n",
    "\n",
    "intercept_no_threshold, slope_no_threshold\n"
   ]
  },
  {
   "cell_type": "markdown",
   "id": "e0e98606",
   "metadata": {},
   "source": [
    "The linear regression model without considering the threshold has been fitted to the data. The model parameters are as follows:\n",
    "\n",
    "- Intercept: Approximately -1650.50\n",
    "- Slope: Approximately 2.05\n",
    "\n",
    "This means the model predicts the actual recovery amount as a function of the expected recovery amount using the equation:\n",
    "\n",
    "\\[ \\text{Actual Recovery Amount} = -1650.50 + 2.05 \\times \\text{Expected Recovery Amount} \\]\n",
    "\n",
    "The positive slope of approximately 2.05 suggests that there is indeed a strong positive relationship between the expected and actual recovery amounts, as anticipated. For every additional dollar in the expected recovery amount, the model predicts an increase of about 2.05 dollars in the actual recovery amount.\n",
    "\n",
    "This model provides a baseline understanding of the general relationship between these two variables across the entire range of data. The next step is to build a model that includes the threshold to see how it might affect this relationship, particularly around the $1000 mark. \n"
   ]
  },
  {
   "cell_type": "code",
   "execution_count": 39,
   "id": "7bdc836f",
   "metadata": {},
   "outputs": [],
   "source": [
    "# --------------------------------THRESHOLD------------------------------------"
   ]
  },
  {
   "cell_type": "code",
   "execution_count": 40,
   "id": "2f29562a",
   "metadata": {},
   "outputs": [],
   "source": [
    "# Creating a dummy variable for the threshold\n",
    "df['threshold_indicator'] = (df['expected_recovery_amount'] >= 1000).astype(int)\n",
    "\n",
    "# Preparing the data for the regression model with threshold\n",
    "X_threshold = df[['expected_recovery_amount', 'threshold_indicator']]  # Independent variables\n",
    "y_threshold = df['actual_recovery_amount']  # Dependent variable"
   ]
  },
  {
   "cell_type": "code",
   "execution_count": 20,
   "id": "4f444abd",
   "metadata": {},
   "outputs": [
    {
     "data": {
      "text/plain": [
       "(-1202.842634947709, array([   2.08744211, -641.28584955]))"
      ]
     },
     "execution_count": 20,
     "metadata": {},
     "output_type": "execute_result"
    }
   ],
   "source": [
    "# Creating and fitting the linear regression model with threshold\n",
    "model_with_threshold = LinearRegression()\n",
    "model_with_threshold.fit(X_threshold, y_threshold)\n",
    "\n",
    "# Coefficients of the model with threshold\n",
    "intercept_with_threshold = model_with_threshold.intercept_\n",
    "coefficients_with_threshold = model_with_threshold.coef_\n",
    "\n",
    "(intercept_with_threshold, coefficients_with_threshold)\n"
   ]
  },
  {
   "cell_type": "markdown",
   "id": "54cfd25e",
   "metadata": {},
   "source": [
    "\n",
    "The linear regression model that includes the $1000 threshold has been fitted. The model parameters are as follows:\n",
    "\n",
    "- Intercept: Approximately -1202.84\n",
    "- Slope for Expected Recovery Amount: Approximately 2.09\n",
    "- Coefficient for the Threshold Indicator: Approximately -641.29\n",
    "\n",
    "This means the model predicts the actual recovery amount using the equation:\n",
    "\n",
    "\\[ \\text{Actual Recovery Amount} = -1202.84 + 2.09 \\times \\text{Expected Recovery Amount} - 641.29 \\times \\text{Threshold Indicator} \\]\n",
    "\n",
    "Here, the \"Threshold Indicator\" is a binary variable that takes the value of 1 for expected recovery amounts at or above $1000, and 0 for amounts below $1000.\n",
    "\n",
    "The positive slope of 2.09 for the expected recovery amount indicates a strong positive relationship, similar to the first model. However, the presence of the threshold indicator variable with a coefficient of approximately -641.29 suggests that crossing the $1000 threshold leads to a change in the actual recovery amount. This coefficient can be interpreted as the adjustment to the actual recovery amount when the expected recovery amount crosses the $1000 threshold.\n",
    "\n",
    "The negative coefficient for the threshold indicator suggests that, all else being equal, there's a decrease in the actual recovery amount associated with crossing this threshold. This result is intriguing and warrants further investigation, particularly in understanding how this threshold effect interacts with the overall positive relationship between expected and actual recovery amounts."
   ]
  },
  {
   "cell_type": "code",
   "execution_count": 21,
   "id": "addd950c",
   "metadata": {},
   "outputs": [
    {
     "data": {
      "text/html": [
       "<table class=\"simpletable\">\n",
       "<caption>OLS Regression Results</caption>\n",
       "<tr>\n",
       "  <th>Dep. Variable:</th>    <td>actual_recovery_amount</td> <th>  R-squared:         </th> <td>   0.819</td> \n",
       "</tr>\n",
       "<tr>\n",
       "  <th>Model:</th>                      <td>OLS</td>          <th>  Adj. R-squared:    </th> <td>   0.818</td> \n",
       "</tr>\n",
       "<tr>\n",
       "  <th>Method:</th>                <td>Least Squares</td>     <th>  F-statistic:       </th> <td>   4241.</td> \n",
       "</tr>\n",
       "<tr>\n",
       "  <th>Date:</th>                <td>Tue, 23 Jan 2024</td>    <th>  Prob (F-statistic):</th>  <td>  0.00</td>  \n",
       "</tr>\n",
       "<tr>\n",
       "  <th>Time:</th>                    <td>15:27:17</td>        <th>  Log-Likelihood:    </th> <td> -16926.</td> \n",
       "</tr>\n",
       "<tr>\n",
       "  <th>No. Observations:</th>         <td>  1882</td>         <th>  AIC:               </th> <td>3.386e+04</td>\n",
       "</tr>\n",
       "<tr>\n",
       "  <th>Df Residuals:</th>             <td>  1879</td>         <th>  BIC:               </th> <td>3.387e+04</td>\n",
       "</tr>\n",
       "<tr>\n",
       "  <th>Df Model:</th>                 <td>     2</td>         <th>                     </th>     <td> </td>    \n",
       "</tr>\n",
       "<tr>\n",
       "  <th>Covariance Type:</th>         <td>nonrobust</td>       <th>                     </th>     <td> </td>    \n",
       "</tr>\n",
       "</table>\n",
       "<table class=\"simpletable\">\n",
       "<tr>\n",
       "              <td></td>                <th>coef</th>     <th>std err</th>      <th>t</th>      <th>P>|t|</th>  <th>[0.025</th>    <th>0.975]</th>  \n",
       "</tr>\n",
       "<tr>\n",
       "  <th>const</th>                    <td>-1202.8426</td> <td>  125.888</td> <td>   -9.555</td> <td> 0.000</td> <td>-1449.738</td> <td> -955.947</td>\n",
       "</tr>\n",
       "<tr>\n",
       "  <th>expected_recovery_amount</th> <td>    2.0874</td> <td>    0.024</td> <td>   87.060</td> <td> 0.000</td> <td>    2.040</td> <td>    2.134</td>\n",
       "</tr>\n",
       "<tr>\n",
       "  <th>threshold_indicator</th>      <td> -641.2858</td> <td>  143.633</td> <td>   -4.465</td> <td> 0.000</td> <td> -922.983</td> <td> -359.588</td>\n",
       "</tr>\n",
       "</table>\n",
       "<table class=\"simpletable\">\n",
       "<tr>\n",
       "  <th>Omnibus:</th>       <td>1473.024</td> <th>  Durbin-Watson:     </th> <td>   2.112</td> \n",
       "</tr>\n",
       "<tr>\n",
       "  <th>Prob(Omnibus):</th>  <td> 0.000</td>  <th>  Jarque-Bera (JB):  </th> <td>79351.724</td>\n",
       "</tr>\n",
       "<tr>\n",
       "  <th>Skew:</th>           <td> 3.199</td>  <th>  Prob(JB):          </th> <td>    0.00</td> \n",
       "</tr>\n",
       "<tr>\n",
       "  <th>Kurtosis:</th>       <td>34.161</td>  <th>  Cond. No.          </th> <td>1.38e+04</td> \n",
       "</tr>\n",
       "</table><br/><br/>Notes:<br/>[1] Standard Errors assume that the covariance matrix of the errors is correctly specified.<br/>[2] The condition number is large, 1.38e+04. This might indicate that there are<br/>strong multicollinearity or other numerical problems."
      ],
      "text/plain": [
       "<class 'statsmodels.iolib.summary.Summary'>\n",
       "\"\"\"\n",
       "                              OLS Regression Results                              \n",
       "==================================================================================\n",
       "Dep. Variable:     actual_recovery_amount   R-squared:                       0.819\n",
       "Model:                                OLS   Adj. R-squared:                  0.818\n",
       "Method:                     Least Squares   F-statistic:                     4241.\n",
       "Date:                    Tue, 23 Jan 2024   Prob (F-statistic):               0.00\n",
       "Time:                            15:27:17   Log-Likelihood:                -16926.\n",
       "No. Observations:                    1882   AIC:                         3.386e+04\n",
       "Df Residuals:                        1879   BIC:                         3.387e+04\n",
       "Df Model:                               2                                         \n",
       "Covariance Type:                nonrobust                                         \n",
       "============================================================================================\n",
       "                               coef    std err          t      P>|t|      [0.025      0.975]\n",
       "--------------------------------------------------------------------------------------------\n",
       "const                    -1202.8426    125.888     -9.555      0.000   -1449.738    -955.947\n",
       "expected_recovery_amount     2.0874      0.024     87.060      0.000       2.040       2.134\n",
       "threshold_indicator       -641.2858    143.633     -4.465      0.000    -922.983    -359.588\n",
       "==============================================================================\n",
       "Omnibus:                     1473.024   Durbin-Watson:                   2.112\n",
       "Prob(Omnibus):                  0.000   Jarque-Bera (JB):            79351.724\n",
       "Skew:                           3.199   Prob(JB):                         0.00\n",
       "Kurtosis:                      34.161   Cond. No.                     1.38e+04\n",
       "==============================================================================\n",
       "\n",
       "Notes:\n",
       "[1] Standard Errors assume that the covariance matrix of the errors is correctly specified.\n",
       "[2] The condition number is large, 1.38e+04. This might indicate that there are\n",
       "strong multicollinearity or other numerical problems.\n",
       "\"\"\""
      ]
     },
     "execution_count": 21,
     "metadata": {},
     "output_type": "execute_result"
    }
   ],
   "source": [
    "# Adding a constant to the independent variables for statsmodels\n",
    "X_with_const = sm.add_constant(X_threshold)\n",
    "\n",
    "# Creating and fitting the model using statsmodels for detailed statistics\n",
    "model_with_threshold_sm = sm.OLS(y_threshold, X_with_const).fit()\n",
    "\n",
    "# Getting the summary of the regression model\n",
    "model_summary = model_with_threshold_sm.summary()\n",
    "model_summary\n"
   ]
  },
  {
   "cell_type": "markdown",
   "id": "ee54a5d8",
   "metadata": {},
   "source": [
    "The second model, which includes an indicator for the true threshold, aims to capture any discontinuity at the $1000 mark that might be attributed to the impact of the higher recovery strategy. If the higher recovery strategy has no impact, we would expect the relationship between expected and actual recovery amounts to be continuous, and the coefficient for the threshold indicator should not be significant.\n",
    "\n",
    "However, as we saw in our previous analysis, the threshold indicator had a significant coefficient, suggesting a discontinuity at the threshold. This indicates that the relationship between the expected and actual recovery amounts changes at the $1000 threshold, potentially due to the change in recovery strategy.\n",
    "\n",
    "To further explore this, we can look at the statistical significance of the threshold indicator in the model and consider the model's overall fit. Let's assess the statistical significance of the coefficients in the second model (with the threshold indicator) and review the adjusted R-squared value to understand the model's explanatory power.\n",
    "\n",
    "The regression results for the model with the threshold indicator are as follows:\n",
    "\n",
    "- **R-squared**: 0.819\n",
    "- **Adjusted R-squared**: 0.818\n",
    "- **Coefficients**:\n",
    "  - Intercept (const): -1202.8426\n",
    "  - Expected Recovery Amount: 2.0874\n",
    "  - Threshold Indicator: -641.2858\n",
    "\n",
    "**Interpretation**:\n",
    "- The R-squared value of 0.819 indicates that approximately 81.9% of the variation in the actual recovery amount is explained by the model. The adjusted R-squared, which accounts for the number of predictors in the model, is also quite high at 0.818.\n",
    "- The coefficient for the expected recovery amount (2.0874) is statistically significant (p-value < 0.001), indicating a strong positive relationship between expected and actual recovery amounts.\n",
    "- The coefficient for the threshold indicator (-641.2858) is also statistically significant (p-value < 0.001). This suggests that there is a significant change in the actual recovery amount at the $1000 threshold. Specifically, the negative coefficient implies a decrease in the actual recovery amount when crossing this threshold, assuming other factors remain constant.\n",
    "\n",
    "The significant coefficient for the threshold indicator supports the idea that the relationship between expected and actual recovery amounts is not continuous across the $1000 mark. This discontinuity could be attributed to the impact of the higher recovery strategy implemented at and above this threshold.\n",
    "\n",
    "These results provide statistical evidence that the change in recovery strategy at the $1000 threshold affects the actual recovery amounts, beyond what would be expected just from the change in the expected recovery amount. "
   ]
  },
  {
   "cell_type": "markdown",
   "id": "25fb071c",
   "metadata": {},
   "source": [
    "Interpretation:\n",
    "\n",
    "- The absence of a clear pattern in the Residuals vs. Predicted Values plot is a positive indicator, but the potential heteroscedasticity and presence of outliers might need further investigation.\n",
    "- The deviation from normality in the residuals, especially in the tails, could be an area of concern. It suggests that extreme values may not be well-modeled by the regression.\n"
   ]
  },
  {
   "cell_type": "code",
   "execution_count": 23,
   "id": "06588e6c",
   "metadata": {},
   "outputs": [
    {
     "data": {
      "text/html": [
       "<table class=\"simpletable\">\n",
       "<caption>OLS Regression Results</caption>\n",
       "<tr>\n",
       "  <th>Dep. Variable:</th>    <td>actual_recovery_amount</td> <th>  R-squared:         </th> <td>   0.287</td>\n",
       "</tr>\n",
       "<tr>\n",
       "  <th>Model:</th>                      <td>OLS</td>          <th>  Adj. R-squared:    </th> <td>   0.273</td>\n",
       "</tr>\n",
       "<tr>\n",
       "  <th>Method:</th>                <td>Least Squares</td>     <th>  F-statistic:       </th> <td>   19.55</td>\n",
       "</tr>\n",
       "<tr>\n",
       "  <th>Date:</th>                <td>Tue, 23 Jan 2024</td>    <th>  Prob (F-statistic):</th> <td>7.33e-08</td>\n",
       "</tr>\n",
       "<tr>\n",
       "  <th>Time:</th>                    <td>15:27:18</td>        <th>  Log-Likelihood:    </th> <td> -699.42</td>\n",
       "</tr>\n",
       "<tr>\n",
       "  <th>No. Observations:</th>         <td>   100</td>         <th>  AIC:               </th> <td>   1405.</td>\n",
       "</tr>\n",
       "<tr>\n",
       "  <th>Df Residuals:</th>             <td>    97</td>         <th>  BIC:               </th> <td>   1413.</td>\n",
       "</tr>\n",
       "<tr>\n",
       "  <th>Df Model:</th>                 <td>     2</td>         <th>                     </th>     <td> </td>   \n",
       "</tr>\n",
       "<tr>\n",
       "  <th>Covariance Type:</th>         <td>nonrobust</td>       <th>                     </th>     <td> </td>   \n",
       "</tr>\n",
       "</table>\n",
       "<table class=\"simpletable\">\n",
       "<tr>\n",
       "              <td></td>                <th>coef</th>     <th>std err</th>      <th>t</th>      <th>P>|t|</th>  <th>[0.025</th>    <th>0.975]</th>  \n",
       "</tr>\n",
       "<tr>\n",
       "  <th>const</th>                    <td> -310.8225</td> <td> 1808.751</td> <td>   -0.172</td> <td> 0.864</td> <td>-3900.692</td> <td> 3279.047</td>\n",
       "</tr>\n",
       "<tr>\n",
       "  <th>expected_recovery_amount</th> <td>    0.9510</td> <td>    1.854</td> <td>    0.513</td> <td> 0.609</td> <td>   -2.728</td> <td>    4.630</td>\n",
       "</tr>\n",
       "<tr>\n",
       "  <th>threshold_indicator</th>      <td>  285.5160</td> <td>  110.391</td> <td>    2.586</td> <td> 0.011</td> <td>   66.421</td> <td>  504.611</td>\n",
       "</tr>\n",
       "</table>\n",
       "<table class=\"simpletable\">\n",
       "<tr>\n",
       "  <th>Omnibus:</th>       <td>39.881</td> <th>  Durbin-Watson:     </th> <td>   1.955</td>\n",
       "</tr>\n",
       "<tr>\n",
       "  <th>Prob(Omnibus):</th> <td> 0.000</td> <th>  Jarque-Bera (JB):  </th> <td>  84.700</td>\n",
       "</tr>\n",
       "<tr>\n",
       "  <th>Skew:</th>          <td> 1.568</td> <th>  Prob(JB):          </th> <td>4.05e-19</td>\n",
       "</tr>\n",
       "<tr>\n",
       "  <th>Kurtosis:</th>      <td> 6.239</td> <th>  Cond. No.          </th> <td>6.76e+04</td>\n",
       "</tr>\n",
       "</table><br/><br/>Notes:<br/>[1] Standard Errors assume that the covariance matrix of the errors is correctly specified.<br/>[2] The condition number is large, 6.76e+04. This might indicate that there are<br/>strong multicollinearity or other numerical problems."
      ],
      "text/plain": [
       "<class 'statsmodels.iolib.summary.Summary'>\n",
       "\"\"\"\n",
       "                              OLS Regression Results                              \n",
       "==================================================================================\n",
       "Dep. Variable:     actual_recovery_amount   R-squared:                       0.287\n",
       "Model:                                OLS   Adj. R-squared:                  0.273\n",
       "Method:                     Least Squares   F-statistic:                     19.55\n",
       "Date:                    Tue, 23 Jan 2024   Prob (F-statistic):           7.33e-08\n",
       "Time:                            15:27:18   Log-Likelihood:                -699.42\n",
       "No. Observations:                     100   AIC:                             1405.\n",
       "Df Residuals:                          97   BIC:                             1413.\n",
       "Df Model:                               2                                         \n",
       "Covariance Type:                nonrobust                                         \n",
       "============================================================================================\n",
       "                               coef    std err          t      P>|t|      [0.025      0.975]\n",
       "--------------------------------------------------------------------------------------------\n",
       "const                     -310.8225   1808.751     -0.172      0.864   -3900.692    3279.047\n",
       "expected_recovery_amount     0.9510      1.854      0.513      0.609      -2.728       4.630\n",
       "threshold_indicator        285.5160    110.391      2.586      0.011      66.421     504.611\n",
       "==============================================================================\n",
       "Omnibus:                       39.881   Durbin-Watson:                   1.955\n",
       "Prob(Omnibus):                  0.000   Jarque-Bera (JB):               84.700\n",
       "Skew:                           1.568   Prob(JB):                     4.05e-19\n",
       "Kurtosis:                       6.239   Cond. No.                     6.76e+04\n",
       "==============================================================================\n",
       "\n",
       "Notes:\n",
       "[1] Standard Errors assume that the covariance matrix of the errors is correctly specified.\n",
       "[2] The condition number is large, 6.76e+04. This might indicate that there are\n",
       "strong multicollinearity or other numerical problems.\n",
       "\"\"\""
      ]
     },
     "execution_count": 23,
     "metadata": {},
     "output_type": "execute_result"
    }
   ],
   "source": [
    "# Filtering the data for the new window range ($950 to $1050)\n",
    "data_950_1050 = df[(df['expected_recovery_amount'] >= 950) & (df['expected_recovery_amount'] <= 1050)]\n",
    "\n",
    "# Preparing the data for the regression model in the new window\n",
    "X_950_1050 = data_950_1050[['expected_recovery_amount', 'threshold_indicator']]  # Independent variables\n",
    "y_950_1050 = data_950_1050['actual_recovery_amount']  # Dependent variable\n",
    "\n",
    "# Adding a constant to the independent variables for statsmodels\n",
    "X_950_1050_with_const = sm.add_constant(X_950_1050)\n",
    "\n",
    "# Creating and fitting the linear regression model for the new window\n",
    "model_950_1050 = sm.OLS(y_950_1050, X_950_1050_with_const).fit()\n",
    "\n",
    "# Getting the summary of the regression model for the new window\n",
    "model_950_1050_summary = model_950_1050.summary()\n",
    "model_950_1050_summary\n"
   ]
  },
  {
   "cell_type": "markdown",
   "id": "9f1f18bb",
   "metadata": {},
   "source": [
    "- **R-squared**: 0.287\n",
    "- **Adjusted R-squared**: 0.273\n",
    "- **Coefficients**:\n",
    "  - Intercept (const): -310.8225\n",
    "  - Expected Recovery Amount: 0.9510\n",
    "  - Threshold Indicator: 285.5160\n",
    "\n",
    "**Interpretation**:\n",
    "- The R-squared value is 0.287, indicating that around 28.7% of the variation in the actual recovery amount is explained by the model within this narrower window. This is lower than the model for the wider range, which is expected given the reduced variability in the narrower window.\n",
    "- The coefficient for the expected recovery amount (0.9510) is not statistically significant in this window (p-value > 0.05), indicating a weaker or non-significant linear relationship within this narrow range.\n",
    "- The coefficient for the threshold indicator (285.5160) is statistically significant (p-value = 0.011). This suggests that there is a significant increase in the actual recovery amount at the $1000 threshold within this range.\n",
    "\n",
    "The significant coefficient for the threshold indicator in this narrower window is consistent with the findings from the wider window. It indicates that the actual recovery amount experiences a notable increase at the $1000 threshold, supporting the hypothesis that the higher recovery strategy has a substantial impact. The estimated impact of around $285 is close to the previously observed impact in the wider window, reinforcing the conclusion that the higher recovery strategy is likely worth the additional costs.\n",
    "\n",
    "This consistency across different windows adds robustness to the conclusion that the change in recovery strategy at the usd 1000 threshold has a significant positive impact on the actual recovery amount."
   ]
  },
  {
   "cell_type": "code",
   "execution_count": null,
   "id": "c571804f",
   "metadata": {},
   "outputs": [],
   "source": []
  }
 ],
 "metadata": {
  "kernelspec": {
   "display_name": "Python 3 (ipykernel)",
   "language": "python",
   "name": "python3"
  },
  "language_info": {
   "codemirror_mode": {
    "name": "ipython",
    "version": 3
   },
   "file_extension": ".py",
   "mimetype": "text/x-python",
   "name": "python",
   "nbconvert_exporter": "python",
   "pygments_lexer": "ipython3",
   "version": "3.11.5"
  }
 },
 "nbformat": 4,
 "nbformat_minor": 5
}
